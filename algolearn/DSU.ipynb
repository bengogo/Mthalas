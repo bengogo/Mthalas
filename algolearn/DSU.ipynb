{
 "cells": [
  {
   "cell_type": "markdown",
   "metadata": {},
   "source": [
    "并查集被很多OIer认为是最简洁而优雅的数据结构之一，主要用于解决一些元素分组的问题。它管理一系列不相交的集合，并支持两种操作：\n",
    "\n",
    "    合并（Union）：把两个不相交的集合合并为一个集合。\n",
    "    查询（Find）：查询两个元素是否在同一个集合中。\n",
    "\n",
    "当然，这样的定义未免太过学术化，看完后恐怕不太能理解它具体有什么用。所以我们先来看看并查集最直接的一个应用场景：亲戚问题。\n",
    "(洛谷P1551）亲戚\n",
    "\n",
    "    题目背景\n",
    "    若某个家族人员过于庞大，要判断两个是否是亲戚，确实还很不容易，现在给出某个亲戚关系图，求任意给出的两个人是否具有亲戚关系。\n",
    "    题目描述\n",
    "    规定：x和y是亲戚，y和z是亲戚，那么x和z也是亲戚。如果x,y是亲戚，那么x的亲戚都是y的亲戚，y的亲戚也都是x的亲戚。\n",
    "    输入格式\n",
    "    第一行：三个整数n,m,p，（n<=5000,m<=5000,p<=5000），分别表示有n个人，m个亲戚关系，询问p对亲戚关系。\n",
    "    以下m行：每行两个数Mi，Mj，1<=Mi，Mj<=N，表示Mi和Mj具有亲戚关系。\n",
    "    接下来p行：每行两个数Pi，Pj，询问Pi和Pj是否具有亲戚关系。\n",
    "    输出格式\n",
    "    P行，每行一个’Yes’或’No’。表示第i个询问的答案为“具有”或“不具有”亲戚关系。\n",
    "这其实是一个很有现实意义的问题。我们可以建立模型，把所有人划分到若干个不相交的集合中，每个集合里的人彼此是亲戚。为了判断两个人是否为亲戚，只需看它们是否属于同一个集合即可。因此，这里就可以考虑用并查集进行维护了。\n"
   ]
  },
  {
   "cell_type": "code",
   "execution_count": 16,
   "metadata": {},
   "outputs": [],
   "source": [
    "class DSU:\n",
    "    def __init__(self,n):\n",
    "        self.rank = [1]*n\n",
    "        self.fa = list(range(n))\n",
    "    def find(self,x):\n",
    "        if self.fa[x]==x:\n",
    "            return x\n",
    "        else:\n",
    "            self.fa[x]=self.find(self.fa[x])\n",
    "            return self.fa[x]\n",
    "    def merge(self,i,j):\n",
    "        x,y = self.find(i),self.find(j)\n",
    "        if self.rank[x] > self.rank[y]:\n",
    "            self.fa[y] = x\n",
    "        else:\n",
    "            self.fa[x] = y\n",
    "            if (self.rank[x] == self.rank[y] and x != y):\n",
    "                self.rank[y] += 1\n",
    "       "
   ]
  },
  {
   "cell_type": "code",
   "execution_count": 17,
   "metadata": {},
   "outputs": [
    {
     "name": "stdout",
     "output_type": "stream",
     "text": [
      "5,3,2\n",
      "0,1\n",
      "2,3\n",
      "3,4\n",
      "[1, 1, 3, 3, 3]\n",
      "[1, 2, 1, 2, 1]\n",
      "1,4\n",
      "False\n",
      "2,5\n",
      "False\n"
     ]
    }
   ],
   "source": [
    "def P1551():\n",
    "    d = DSU(5005)\n",
    "    \n",
    "    inbuf = input().split(',')\n",
    "    n,m,p = int(inbuf[0]),int(inbuf[1]),int(inbuf[2])\n",
    "    \n",
    "    for i in range(m):\n",
    "        inbuf = input().split(',')\n",
    "        x,y = int(inbuf[0]),int(inbuf[1])\n",
    "        d.merge(x,y)\n",
    "    print(d.fa[:n])\n",
    "    print(d.rank[:n])\n",
    "    for i in range(p):\n",
    "        inbuf = input().split(',')\n",
    "        x,y = int(inbuf[0]),int(inbuf[1])\n",
    "        print(d.find(x)==d.find(y))\n",
    "        \n",
    "    \n",
    "    \n",
    "    \n",
    "P1551()"
   ]
  }
 ],
 "metadata": {
  "kernelspec": {
   "display_name": "Python 3",
   "language": "python",
   "name": "python3"
  },
  "language_info": {
   "codemirror_mode": {
    "name": "ipython",
    "version": 3
   },
   "file_extension": ".py",
   "mimetype": "text/x-python",
   "name": "python",
   "nbconvert_exporter": "python",
   "pygments_lexer": "ipython3",
   "version": "3.5.2"
  }
 },
 "nbformat": 4,
 "nbformat_minor": 4
}
