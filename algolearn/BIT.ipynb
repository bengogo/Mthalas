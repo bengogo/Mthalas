{
 "cells": [
  {
   "cell_type": "markdown",
   "metadata": {},
   "source": [
    "树状数组（Binary Index Tree, BIT）也是很多OIer心中最简洁优美的数据结构之一。最简单的树状数组支持两种操作，时间复杂度均为$O(logn)$\n",
    "\n",
    "- 单点修改：更改数组中一个元素的值区间\n",
    "- 查询：查询一个区间内所有元素的和\n",
    "\n",
    "当然，树状数组能维护的不局限于加法，支持的操作也不止这两种，甚至有大佬能用树状数组实现平衡树。\n",
    "\n",
    "回顾一下，我们说，我们要实现两种操作：单点修改和区间求和。对于普通数组而言，单点修改的时间复杂度是$O(1)$,直接用索引值就能修改相应元素的值 ，但区间求和的时间复杂度是$O(n)$。当然，我们也可以用前缀和的方法维护这个数组，这样的话区间求和的时间复杂度就降到了$O(1)$，但是单点修改会影响后面所有的元素，时间复杂度是$O(n)$。"
   ]
  },
  {
   "cell_type": "markdown",
   "metadata": {},
   "source": [
    "## (HDU P1166）敌兵布阵\n",
    "\n",
    "- ### Problem Description\n",
    "\n",
    "    >C国的死对头A国这段时间正在进行军事演习，所以C国间谍头子Derek和他手下Tidy又开始忙乎了。\n",
    "    >A国在海岸线沿直线布置了N个工兵营地,Derek和Tidy的任务就是要监视这些工兵营地的活动情况。由于采取了某种先进的监测手段，所以每个工兵营地的人数C国都掌握的一清二楚,每个工兵营地的人数都有可能发生变动，可能增加或减少若干人手,但这些都逃不过C国的监视。\n",
    "    >中央情报局要研究敌人究竟演习什么战术,所以Tidy要随时向Derek汇报某一段连续的工兵营地一共有多少人,例如Derek问:“Tidy,马上汇报第3个营地到第10个营地共有多少人!”Tidy就要马上开始计算这一段的总人数并汇报。但敌兵营地的人数经常变动，而Derek每次询问的段都不一样，所以Tidy不得不每次都一个一个营地的去数，很快就精疲力尽了，Derek对Tidy的计算速度越来越不满:\"你个死肥仔，算得这么慢，我炒你鱿鱼!”Tidy想：“你自己来算算看，这可真是一项累人的工作!我恨不得你炒我鱿鱼呢!”无奈之下，Tidy只好打电话向计算机专家Windbreaker求救,Windbreaker说：“死肥仔，叫你平时做多点acm题和看多点算法书，现在尝到苦果了吧!”Tidy说：\"我知错了。。。\"但Windbreaker已经挂掉电话了。Tidy很苦恼，这么算他真的会崩溃的，聪明的读者，你能写个程序帮他完成这项工作吗？不过如果你的程序效率不够高的话，Tidy还是会受到Derek的责骂的.\n",
    "    - Input\n",
    "       - 第一行一个整数T，表示有T组数据。\n",
    "       - 每组数据第一行一个正整数N（N<=50000）,表示敌人有N个工兵营地，接下来有N个正整数,第i个正整数ai代表第i个工兵营地里开始时有ai个人（1<=ai<=50）。\n",
    "       - 接下来每行有一条命令，命令有4种形式：\n",
    "          - (1)Add i j ,i和j为正整数,表示第i个营地增加j个人（j不超过30）\n",
    "          - (2)Sub i j ,i和j为正整数,表示第i个营地减少j个人（j不超过30）;\n",
    "          - (3)Query i j ,i和j为正整数,i<=j，表示询问第i到第j个营地的总人数;\n",
    "          - (4)End 表示结束，这条命令在每组数据最后出现;\n",
    "       - 每组数据最多有40000条命令\n",
    "    - Output\n",
    "    对第i组数据,首先输出“Case i:”和回车,\n",
    "    对于每个Query询问，输出一个整数并回车,表示询问的段中的总人数,这个数保持在int以内。"
   ]
  },
  {
   "cell_type": "markdown",
   "metadata": {},
   "source": [
    "---\n",
    "## 树状数组的引入\n",
    "\n",
    "回顾一下，我们说，我们要实现两种操作：**单点修改和区间求和**。对于普通数组而言，**单点修改**的时间复杂度是 𝑂(1) ，但**区间求和**的时间复杂度是 𝑂(𝑛) 。\n",
    "![](./ptsz.png \"普通数组\")\n",
    "当然，我们也可以用前缀和的方法维护这个数组，这样的话__区间求和__的时间复杂度就降到了𝑂(1)，但是__单点修改__会影响后面所有的元素，时间复杂度是𝑂(𝑛)。\n"
   ]
  },
  {
   "cell_type": "markdown",
   "metadata": {},
   "source": [
    "#### ｄｅｍｏ代码\n",
    "```\n",
    "MAXN = 10\n",
    "tree = [0]*MAXN\n",
    "def lowbit(x):\n",
    "    return x & (-x)\n",
    "def update(i,x):\n",
    "    pos = i\n",
    "    while pos < MAXN:\n",
    "        tree[pos] += x\n",
    "        pos += lowbit(pos)\n",
    "def query(n):\n",
    "    ans = 0\n",
    "    pos = n\n",
    "    while pos > 0:\n",
    "        ans += tree[pos]\n",
    "        pos -= lowbit(pos)\n",
    "    return ans\n",
    "def queryab(a,b):\n",
    "    return query(b)-query(a-1)\n",
    "\n",
    "for i in range(1,MAXN):\n",
    "    update(i,2*i)\n",
    "print(tree)\n",
    "for i in range(1,MAXN):\n",
    "    print(query(i))\n",
    "```"
   ]
  },
  {
   "cell_type": "code",
   "execution_count": 10,
   "metadata": {},
   "outputs": [
    {
     "name": "stdout",
     "output_type": "stream",
     "text": [
      "３\n",
      "３\n",
      "２\n",
      "１\n",
      "[[1, 3], [2, 2], [3, 1]]\n",
      "[0, 3, 2, 1]\n",
      "3\n"
     ]
    }
   ],
   "source": [
    "MAXN = 10\n",
    "tree = [0]*MAXN\n",
    "def lowbit(x):\n",
    "    return x & (-x)\n",
    "def update(i,x):\n",
    "    pos = i\n",
    "    while pos < MAXN:\n",
    "        tree[pos] += x\n",
    "        pos += lowbit(pos)\n",
    "def query(n):\n",
    "    ans = 0\n",
    "    pos = n\n",
    "    while pos > 0:\n",
    "        ans += tree[pos]\n",
    "        pos -= lowbit(pos)\n",
    "    return ans\n",
    "def queryab(a,b):\n",
    "    return query(b)-query(a-1)\n",
    "\n",
    "import time\n",
    "\n",
    "#----------------------------------------------------\n",
    "# 求局部和\n",
    "#----------------------------------------------------\n",
    "def calcsum():\n",
    "    s1=[0]*MAXN\n",
    "    st = time.time()\n",
    "    for i in range(1,MAXN):\n",
    "        update(i,2*i)\n",
    "    # print(tree)\n",
    "    for i in range(1,MAXN):\n",
    "        s1[i]=query(i)\n",
    "        # queryab(i,i)\n",
    "    print(time.time()-st)\n",
    "\n",
    "    l=[i*2 for i in range(MAXN)]\n",
    "    st = time.time()\n",
    "    # print(tree)\n",
    "    for i in range(1,MAXN):\n",
    "        s = sum(l[:i+1])\n",
    "    print(time.time()-st)\n",
    "# calcsum()\n",
    "\n",
    "#----------------------------------------------------\n",
    "# 求输入的逆序对\n",
    "#----------------------------------------------------\n",
    "def revsPair():\n",
    "    b = [[0,0]]\n",
    "    n = int(input())\n",
    "    for i in range(1,n+1):\n",
    "        t = int(input())\n",
    "        b.append([t,i])\n",
    "    b.sort()\n",
    "    print(b[1:])\n",
    "    a = [0]*len(b)\n",
    "    for i in range(1,n+1):\n",
    "        a[b[i][1]]=i\n",
    "    print(a)\n",
    "    sum = 0\n",
    "    for i in range(1,n+1):\n",
    "        sum += query(a[i])\n",
    "        update(a[i],1)\n",
    "    sum = n*(n-1)//2-sum\n",
    "    print(sum)\n",
    "revsPair()"
   ]
  }
 ],
 "metadata": {
  "kernelspec": {
   "display_name": "Python 3",
   "language": "python",
   "name": "python3"
  },
  "language_info": {
   "codemirror_mode": {
    "name": "ipython",
    "version": 3
   },
   "file_extension": ".py",
   "mimetype": "text/x-python",
   "name": "python",
   "nbconvert_exporter": "python",
   "pygments_lexer": "ipython3",
   "version": "3.5.2"
  }
 },
 "nbformat": 4,
 "nbformat_minor": 4
}
