{
 "cells": [
  {
   "cell_type": "markdown",
   "metadata": {},
   "source": [
    "### 匈牙利算法（Hungarian algorithm）。\n",
    "匈牙利算法主要用于解决一些与**二分图**匹配有关的问题，所以我们先来了解一下二分图。\n",
    "\n",
    "**二分图（Bipartite graph）** 是一类特殊的图，它可以被划分为两个部分，每个部分内的点互不相连。下图是典型的二分图。eft\n",
    "![一个二分图](./eft.png)\n",
    "\n",
    "可以看到，在上面的二分图中，每条边的端点都分别处于点集X和Y中。<br/>\n",
    "匈牙利算法主要用来解决两个问题：求二分图的**最大匹配数**和**最小点覆盖数**。\n",
    "\n",
    "---\n",
    "### 最大匹配问题\n",
    "图G的一个**匹配**是由一组没有公共端点的边构成的集合。匹配的两个重点：\n",
    "1. 匹配是边的集合；\n",
    "2. 在该集合中，任意两条边不能有共同的顶点。<br/>\n",
    "**最大匹配**　在二分图中最多能找到多少条没有公共端点的边。可以设想二分图一部分是男生一部分是女生，一个边表示一对男女有好感，最大匹配问题就相当于：最多能撮合多少对有好感的男女。"
   ]
  },
  {
   "cell_type": "code",
   "execution_count": 14,
   "metadata": {},
   "outputs": [
    {
     "name": "stdout",
     "output_type": "stream",
     "text": [
      "[[0, 0, 0, 0, 0, 0, 0, 0], [0, 1, 1, 0, 1, 0, 0, 0], [0, 0, 1, 0, 0, 1, 0, 0], [0, 1, 0, 0, 1, 0, 0, 1], [0, 0, 0, 1, 0, 0, 1, 0], [0, 0, 0, 0, 1, 0, 0, 0], [0, 0, 0, 0, 1, 0, 0, 0]]\n",
      "1 [0, 1, 0, 0, 0, 0, 0, 0]\n",
      "2 [0, 1, 2, 0, 0, 0, 0, 0]\n",
      "3 [0, 3, 1, 0, 0, 2, 0, 0]\n",
      "4 [0, 3, 1, 4, 0, 2, 0, 0]\n",
      "5 [0, 3, 1, 4, 5, 2, 0, 0]\n",
      "5\n"
     ]
    }
   ],
   "source": [
    "class gmap():\n",
    "    def __init__(self,m,n):\n",
    "        self.mat = [[0]*(n+1) for _ in range(m+1)]\n",
    "        self.p=[0]*(n+1)\n",
    "        self.vis=[0]*(n+1)\n",
    "    def add(self,u,v,w=1):\n",
    "        self.mat[u][v]=w\n",
    "#         self.mat[v][u]=w\n",
    "    def match(self,i):\n",
    "        for j in range(1,len(self.mat[0])):\n",
    "            if self.mat[i][j] and self.vis[j]==0:\n",
    "                self.vis[j]=1\n",
    "                if self.p[j]==0 or self.match(self.p[j]):\n",
    "                    self.p[j]=i\n",
    "                    return True\n",
    "        return False\n",
    "        \n",
    "M,N = 6,7\n",
    "gm = gmap(M,N)\n",
    "\n",
    "edges =[[1,1],[1,2],[1,4],[2,2],[2,5],[3,1],[3,4],[3,7],[4,3],[4,6],[5,4],[6,4]]\n",
    "for i in edges:\n",
    "    gm.add(i[0],i[1])\n",
    "print(gm.mat)\n",
    "\n",
    "cnt = 0\n",
    "for i in range(1,M+1):\n",
    "    gm.vis=[0]*(N+1)\n",
    "    if gm.match(i):\n",
    "        print(i,gm.p)\n",
    "        cnt+=1\n",
    "# print(gm.p)\n",
    "print(cnt)"
   ]
  }
 ],
 "metadata": {
  "kernelspec": {
   "display_name": "Python 3",
   "language": "python",
   "name": "python3"
  },
  "language_info": {
   "codemirror_mode": {
    "name": "ipython",
    "version": 3
   },
   "file_extension": ".py",
   "mimetype": "text/x-python",
   "name": "python",
   "nbconvert_exporter": "python",
   "pygments_lexer": "ipython3",
   "version": "3.5.2"
  }
 },
 "nbformat": 4,
 "nbformat_minor": 4
}
