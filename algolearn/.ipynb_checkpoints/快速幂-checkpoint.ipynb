{
 "cells": [
  {
   "cell_type": "markdown",
   "metadata": {},
   "source": [
    "**快速幂**（Exponentiation by squaring，平方求幂）是一种简单而有效的小算法，它可以以$O(logn)$的时间复杂度计算乘方。快速幂不仅本身非常常见，而且后续很多算法也都会用到快速幂。<br/>\n",
    "\n",
    "---\n",
    "让我们先来思考一个问题：**7的10次方，怎样算比较快？**\n",
    "\n",
    "- **方法1：**最朴素的想法，7 * 7=49，49 * 7=343，... 一步一步算，共进行了9次乘法。\n",
    "\n",
    "这样算无疑太慢了，尤其对计算机的CPU而言，每次运算只乘上一个个位数，无疑太屈才了。这时我们想到，也许可以拆分问题。\n",
    "\n",
    "- **方法2：**先算7的5次方，即7 * 7 * 7 * 7 * 7，再算它的平方，共进行了5次乘法。\n",
    "\n",
    "但这并不是最优解，因为对于“7的5次方”，我们仍然可以拆分问题。\n",
    "\n",
    "- **方法3：**先算7*7得49，则7的5次方为49 * 49 * 7，再算它的平方，共进行了4次乘法。\n",
    "\n",
    "模仿这样的过程，我们得到一个在$O(logn)$时间内计算出幂的算法，也就是快速幂。\n",
    "\n",
    "---\n",
    "递归快速幂\n",
    "\n",
    "刚刚我们用到的，无非是一个二分的思路。我们很自然地可以得到一个递归方程：\n",
    "\n",
    "![\"快速幂递归\"](./ksmdgequation.svg)\n",
    "计算a的n次方，如果n是偶数（不为0），那么就先计算a的n/2次方，然后平方；如果n是奇数，那么就先计算a的n-1次方，再乘上a；递归出口是a的0次方为1。\n",
    "\n",
    "递归快速幂的思路非常自然，代码也很简单（直接把递归方程翻译成代码即可）：\n",
    "\n",
    "```\n",
    "def fastmi(i,n):\n",
    "    if n==0:\n",
    "        return 1\n",
    "    elif n % 2 == 1:\n",
    "        return fastmi(i,n-1)*a\n",
    "    else:\n",
    "        t=fastmi(i,n//2)\n",
    "        return t*t\n",
    "```\n"
   ]
  }
 ],
 "metadata": {
  "kernelspec": {
   "display_name": "Python 3",
   "language": "python",
   "name": "python3"
  },
  "language_info": {
   "codemirror_mode": {
    "name": "ipython",
    "version": 3
   },
   "file_extension": ".py",
   "mimetype": "text/x-python",
   "name": "python",
   "nbconvert_exporter": "python",
   "pygments_lexer": "ipython3",
   "version": "3.5.2"
  }
 },
 "nbformat": 4,
 "nbformat_minor": 4
}
