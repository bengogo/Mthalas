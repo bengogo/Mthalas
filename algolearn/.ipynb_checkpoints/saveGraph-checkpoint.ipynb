{
 "cells": [
  {
   "cell_type": "markdown",
   "metadata": {},
   "source": [
    "所谓**图（graph）**，是图论中基本的数学对象，包括一些顶点$V$，和连接顶点的边$E$，这里的边只是表示顶点的连接情况，用直线或曲线表示均可。<br/>图可以分为有向图和无向图，有向图中的边是有方向的，而无向图的边是双向连通的。我们至少先得把图存储起来，这个过程我们称为存图。<br/>\n",
    "![有向图和无向图](./yxt.png \"\")\n",
    "<br/>\n",
    "### 邻接矩阵\n",
    "谈到存图，最朴素的想法当然是用一个二维数组mat存储两个边的连接情况。假如从顶点u到顶点v有一条边，则令mat[u][v] = 1。这种建图方法称为邻接矩阵。例如上面的那张有向图的邻接矩阵是：\n",
    "![有向图矩阵](./yxtequation.svg)\n",
    "相应地，上面那张无向图的邻接矩阵是：\n",
    "![有向图矩阵](./wxtequation.svg)\n",
    "这是没有边权的情况，对于有**边权**（可以理解为边的长度）的图，其实只要把对应的1换成边权即可。\n",
    "代码如下\n",
    "```\n",
    "#无向图增加权边的代码\n",
    "def add(u,v,w):\n",
    "    mat[u][v]=w\n",
    "    mat[v][u]=w\n",
    "```\n",
    "\n",
    "邻接矩阵的优点显而易见：简单好写，查询速度快。但缺点也很明显：空间复杂度太高了。 $n$个点对应大小$n^2$ 的数组，如果点的数量达到10000，这种方法就完全不可行了。<br/>\n",
    "事实上，我们可以看到，上面那两个矩阵中有大量的元素是0，有大量空间被浪费了。这虽然使得我们可以迅速判断两个点之间是否没有边，但我们为此付出的代价太大了，我们其实更关注那些确实存在的边。我们希望，可以跳过这些0，直达有边的地方。\n",
    "\n",
    "---"
   ]
  },
  {
   "cell_type": "code",
   "execution_count": null,
   "metadata": {},
   "outputs": [],
   "source": []
  }
 ],
 "metadata": {
  "kernelspec": {
   "display_name": "Python 3",
   "language": "python",
   "name": "python3"
  },
  "language_info": {
   "codemirror_mode": {
    "name": "ipython",
    "version": 3
   },
   "file_extension": ".py",
   "mimetype": "text/x-python",
   "name": "python",
   "nbconvert_exporter": "python",
   "pygments_lexer": "ipython3",
   "version": "3.5.2"
  }
 },
 "nbformat": 4,
 "nbformat_minor": 4
}
