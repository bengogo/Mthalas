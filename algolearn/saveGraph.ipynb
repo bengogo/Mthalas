{
 "cells": [
  {
   "cell_type": "markdown",
   "metadata": {},
   "source": [
    "所谓**图（graph）**，是图论中基本的数学对象，包括一些顶点$V$，和连接顶点的边$E$，这里的边只是表示顶点的连接情况，用直线或曲线表示均可。<br/>图可以分为有向图和无向图，有向图中的边是有方向的，而无向图的边是双向连通的。我们至少先得把图存储起来，这个过程我们称为存图。<br/>\n",
    "![有向图和无向图](./yxt.png \"\")\n",
    "<br/>\n",
    "### 邻接矩阵\n",
    "谈到存图，最朴素的想法当然是用一个二维数组mat存储两个边的连接情况。假如从顶点u到顶点v有一条边，则令mat[u][v] = 1。这种建图方法称为邻接矩阵。例如上面的那张有向图的邻接矩阵是：\n",
    "![有向图矩阵](./yxtequation.svg)\n",
    "相应地，上面那张无向图的邻接矩阵是：\n",
    "![有向图矩阵](./wxtequation.svg)\n",
    "这是没有边权的情况，对于有**边权**（可以理解为边的长度）的图，其实只要把对应的1换成边权即可。\n",
    "代码如下\n",
    "```\n",
    "#无向图增加权边的代码\n",
    "def add(u,v,w):\n",
    "    mat[u][v]=w\n",
    "    mat[v][u]=w\n",
    "```\n",
    "\n",
    "邻接矩阵的优点显而易见：简单好写，查询速度快。但缺点也很明显：空间复杂度太高了。 $n$个点对应大小$n^2$ 的数组，如果点的数量达到10000，这种方法就完全不可行了。<br/>\n",
    "事实上，我们可以看到，上面那两个矩阵中有大量的元素是0，有大量空间被浪费了。这虽然使得我们可以迅速判断两个点之间是否没有边，但我们为此付出的代价太大了，我们其实更关注那些确实存在的边。我们希望，可以跳过这些0，直达有边的地方。\n",
    "\n",
    "---"
   ]
  },
  {
   "cell_type": "markdown",
   "metadata": {},
   "source": [
    "### 邻接表\n",
    "\n",
    "我们把邻接矩阵的行从数组替换为链表，就变成了邻接表。由于没有下标了，我们需要同时储存边的终点（相当于邻接矩阵的第二个下标）和权值，可以定义一个Edge类或者直接用二维list：\n",
    "```\n",
    "class Edge:\n",
    "    def __init__(self,t,w):\n",
    "        self.to = t\n",
    "        self.wight = w\n",
    "```\n",
    "第一张图的邻接表（无边权）应该长这个样子：\n",
    "![邻接表](./wljbequation.svg)\n",
    "邻接表存储**每个顶点能够到达哪些顶点**。注意这里链表的**顺序是无关紧要的**，取决于存图的顺序。<br/>\n",
    "```\n",
    "edges = [[] for _ in range(N))\n",
    "def add(from,to,w):\n",
    "    e = Edge(to,w)\n",
    "    edges[from].append(e)\n",
    "def add2(u,v,w):\n",
    "    add(u,v,w)\n",
    "    add(v,u,w)\n",
    "```\n",
    "遍历图时用两层循环即可。\n",
    "\n",
    "---"
   ]
  },
  {
   "cell_type": "markdown",
   "metadata": {},
   "source": [
    "### 链式前向星\n",
    "\n",
    "另一种思路是用数组模拟链表，这样的存图方法有一个听上去很高端的名字：链式前向星。不过它写起来稍微复杂一点。就不介绍了"
   ]
  }
 ],
 "metadata": {
  "kernelspec": {
   "display_name": "Python 3",
   "language": "python",
   "name": "python3"
  },
  "language_info": {
   "codemirror_mode": {
    "name": "ipython",
    "version": 3
   },
   "file_extension": ".py",
   "mimetype": "text/x-python",
   "name": "python",
   "nbconvert_exporter": "python",
   "pygments_lexer": "ipython3",
   "version": "3.5.2"
  }
 },
 "nbformat": 4,
 "nbformat_minor": 4
}
